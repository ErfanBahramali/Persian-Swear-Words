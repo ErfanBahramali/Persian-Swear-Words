{
  "cells": [
    {
      "cell_type": "code",
      "execution_count": 2,
      "metadata": {
        "id": "ajlUjU3ehD6b"
      },
      "outputs": [],
      "source": [
        "import json\n",
        "import json\n",
        "from string import punctuation\n"
      ]
    },
    {
      "cell_type": "code",
      "execution_count": 3,
      "metadata": {
        "id": "S1mNMY5ZiKEB"
      },
      "outputs": [],
      "source": [
        "class PersianSwear:\n",
        "    def __init__(self):\n",
        "        with open(\"data.json\") as file:\n",
        "            self.data = json.load(file)\n",
        "        self.swear_words = set(self.data[\"word\"])\n",
        "\n",
        "    def ignoreSY(self, text):\n",
        "        translator = str.maketrans(\"\", \"\", punctuation)\n",
        "        return text.translate(translator)\n",
        "\n",
        "    def filter_words(self, text, symbol=\"*\", ignoreOT=False):\n",
        "        if not self.swear_words:\n",
        "            return text\n",
        "\n",
        "        words = text.split()\n",
        "        filtered_words = []\n",
        "        for word in words:\n",
        "            if word in self.swear_words or (\n",
        "                ignoreOT and self.ignoreSY(word) in self.swear_words\n",
        "            ):\n",
        "                filtered_words.append(symbol)\n",
        "            else:\n",
        "                filtered_words.append(word)\n",
        "\n",
        "        return \" \".join(filtered_words)\n",
        "\n",
        "    def is_empty(self):\n",
        "        return not self.swear_words\n",
        "\n",
        "    def add_word(self, word):\n",
        "        self.swear_words.add(word)\n",
        "        self.data[\"word\"].append(word)\n",
        "\n",
        "    def remove_word(self, word):\n",
        "        if word in self.swear_words:\n",
        "            self.swear_words.remove(word)\n",
        "        if word in self.data[\"word\"]:\n",
        "            self.data[\"word\"].remove(word)\n",
        "\n",
        "    def is_bad(self, text, ignoreOT=False):\n",
        "        if ignoreOT:\n",
        "            text = self.ignoreSY(text)\n",
        "        text = text.replace(\"\\u200c\", \"\")\n",
        "        return text in self.swear_words\n",
        "\n",
        "    def has_swear(self, text, ignoreOT=False):\n",
        "        if ignoreOT:\n",
        "            text = self.ignoreSY(text)\n",
        "        text = text.replace(\"\\u200c\", \"\")\n",
        "        if not self.swear_words:\n",
        "            return False\n",
        "\n",
        "        words = text.split()\n",
        "        return any(word in self.swear_words for word in words)\n",
        "\n",
        "    def tostring(self):\n",
        "        return \" - \".join(self.swear_words)\n"
      ]
    },
    {
      "cell_type": "code",
      "execution_count": 4,
      "metadata": {
        "id": "3Dbw32YXiZ65"
      },
      "outputs": [],
      "source": [
        "persianswear = PersianSwear()\n"
      ]
    },
    {
      "cell_type": "code",
      "execution_count": 5,
      "metadata": {
        "colab": {
          "base_uri": "https://localhost:8080/"
        },
        "id": "x5-Ju8yytO9n",
        "outputId": "1170ff4f-b255-4651-fabf-2e8191afb498"
      },
      "outputs": [
        {
          "name": "stdout",
          "output_type": "stream",
          "text": [
            "True\n"
          ]
        }
      ],
      "source": [
        "print(persianswear.is_bad('خر'))\n"
      ]
    },
    {
      "cell_type": "code",
      "execution_count": 6,
      "metadata": {
        "colab": {
          "base_uri": "https://localhost:8080/"
        },
        "id": "x0t4bz2UumUJ",
        "outputId": "64059f34-cc27-4455-fb00-dcd99fce5b03"
      },
      "outputs": [
        {
          "name": "stdout",
          "output_type": "stream",
          "text": [
            "False\n"
          ]
        }
      ],
      "source": [
        "print(persianswear.is_bad('امروز'))\n"
      ]
    },
    {
      "cell_type": "code",
      "execution_count": 7,
      "metadata": {
        "colab": {
          "base_uri": "https://localhost:8080/"
        },
        "id": "iTSJNtP4uqbe",
        "outputId": "2972288e-f8ac-4091-94b1-5bdd55baf801"
      },
      "outputs": [
        {
          "name": "stdout",
          "output_type": "stream",
          "text": [
            "False\n"
          ]
        }
      ],
      "source": [
        "print(persianswear.is_bad('چرت و پرت'))\n"
      ]
    },
    {
      "cell_type": "code",
      "execution_count": 8,
      "metadata": {
        "colab": {
          "base_uri": "https://localhost:8080/"
        },
        "id": "rupNi8hduw43",
        "outputId": "c64b420c-9e50-47be-89ff-f87e44bc61ae"
      },
      "outputs": [
        {
          "name": "stdout",
          "output_type": "stream",
          "text": [
            "True\n"
          ]
        }
      ],
      "source": [
        "persianswear.add_word('چرت و پرت')\n",
        "print(persianswear.is_bad('چرت و پرت'))\n"
      ]
    },
    {
      "cell_type": "code",
      "execution_count": 9,
      "metadata": {
        "colab": {
          "base_uri": "https://localhost:8080/"
        },
        "id": "tOuLyR56vSYo",
        "outputId": "562d6bba-2d17-4fc4-c064-e23a46c70d1e"
      },
      "outputs": [
        {
          "name": "stdout",
          "output_type": "stream",
          "text": [
            "False\n"
          ]
        }
      ],
      "source": [
        "print(persianswear.has_swear('تو دوست من هستی'))\n"
      ]
    },
    {
      "cell_type": "code",
      "execution_count": 10,
      "metadata": {
        "colab": {
          "base_uri": "https://localhost:8080/"
        },
        "id": "2Nu974hvvXKw",
        "outputId": "fdadd1e9-b856-4002-9ab0-6ff2ea370add"
      },
      "outputs": [
        {
          "name": "stdout",
          "output_type": "stream",
          "text": [
            "True\n"
          ]
        }
      ],
      "source": [
        "print(persianswear.has_swear('تو هیز هستی'))\n"
      ]
    },
    {
      "cell_type": "code",
      "execution_count": 11,
      "metadata": {
        "colab": {
          "base_uri": "https://localhost:8080/"
        },
        "id": "IYMZglRHwLvl",
        "outputId": "f02b5253-fcf3-4fd8-c55f-81b0c0d20bd3"
      },
      "outputs": [
        {
          "name": "stdout",
          "output_type": "stream",
          "text": [
            "تو دوست من هستی\n"
          ]
        }
      ],
      "source": [
        "print(persianswear.filter_words('تو دوست من هستی'))\n"
      ]
    },
    {
      "cell_type": "code",
      "execution_count": 12,
      "metadata": {
        "colab": {
          "base_uri": "https://localhost:8080/"
        },
        "id": "veQekNghwT35",
        "outputId": "75ca8908-cfa6-4d90-d174-d2dd53de0103"
      },
      "outputs": [
        {
          "name": "stdout",
          "output_type": "stream",
          "text": [
            "تو * هستی\n"
          ]
        }
      ],
      "source": [
        "print(persianswear.filter_words('تو هیز هستی'))\n"
      ]
    },
    {
      "cell_type": "code",
      "execution_count": 13,
      "metadata": {
        "colab": {
          "base_uri": "https://localhost:8080/"
        },
        "id": "9VlNqwvJwURb",
        "outputId": "d2cc5db7-c131-439d-fff2-1232aca3553f"
      },
      "outputs": [
        {
          "name": "stdout",
          "output_type": "stream",
          "text": [
            "تو & هستی\n"
          ]
        }
      ],
      "source": [
        "print(persianswear.filter_words('تو هیز هستی', '&'))\n"
      ]
    },
    {
      "cell_type": "code",
      "execution_count": 14,
      "metadata": {
        "colab": {
          "base_uri": "https://localhost:8080/"
        },
        "id": "fsrpcX4jmFJG",
        "outputId": "42a2ec91-5357-468e-a948-c860b101301a"
      },
      "outputs": [
        {
          "name": "stdout",
          "output_type": "stream",
          "text": [
            "آب کیر - آشغال - آلت تناسلی - آلت - ابله - ابن یزید - احمق - اسب - اسبی - اسکل - اسکل - اسگل - اسگول - الاغ - الاق - انگل - انی - انی - اوسکل - اوسکل - اوسگل - اوصکل - اوصگل - ب ک - باسن - بخورش - بدبخت - بمال - تخمم - کیرم - بپرروش - بپرسرش - کونی - بکارت - بکن توش - بکنش - بکنمت - خایه - بی عفت - بی غیرت - بی ناموس - بی پدر - بیابخورش - بیشعور - بیناموس - تخم سگ - تخمی - ترک - توله سگ - جاکش - جلق زدن - جنده - جنسی - جوون - جکس - جیندا - حرومزاده - حشر - حشری شدن - حشری - حیوانی - خارکس ده - خارکسده - خارکسّه - خانم جنده - خایه خور - خایه مال - خایه - خر - خرفت - خری - خز - خفه خون - خفه شو - خواهرجنده - خی کاس - داف ناز - داف - داگ استایل - دخترجنده - دخترقرتی - درازگوش - دله - دهن سرویس - گاییده - دهنت سرویس - دوجنسه - دول - دیوث - دیوس خان - دیوس - دیوص - رشتی - ریدن - ریدی - زارت - زباله - زرنزن - زن جنده - زن کاسده - زنا زاده - زنا - زنازاده - زنتو - زنشو - زنیکه - سادیسمی - ساک - ساکونی - سرخور - سرکیر - سسکی - سوراخ کون - سوراخ کون - سولاخ - سکس چت - سکس - سکسی باش - سکسی - سکسیم - سکسیی - سگ تو روحت - سگ دهن - سگ صفت - سگ پدر - سگی - سیکتیر - شاسگول - شاش - شق کردن - شل مغز - شنگول - شهوتی - صیغه ای - صیک - عرب - عرق خور - عمتو - عمه ننه - عن تر - عن - عنتر - عوضی - غرمساق - غرمصاق - فاحشه خانم - فاحشه - فارس - فاک فیس - فیلم سوپر - قرتی - قرمساق - قرمصاق - قس - لا پا - لاس - لاش گوشت - لاشی - لاکونی - لجن - لخت - لختی - لر - لز - مادر جنده - مادرجنده - مادرسگ - مادرقهوه - مادرکونی - مالوندن - ماچ کردنی - مرتیکه - مردیکه - مرض داری - مرضداری - مشروب - ملنگ - ممه خور - ممه - منگل - میخوریش - نرکده - نعشه - نکبت - نگاییدم - هیز - ولدزنا - پدر سوخته - پدر سگ - پدر صلواتی - پدرسگ - پریود - پستان - پسون - پشمام - پفیوز - پلشت - پورن - پپه - چاغال - چاقال - چس خور - چس - کاسکش - کث لیس - کث - کثافت - کثافط - کردن - کردنی - کرم - کس خل - کس خور - کس خیس - کس دادن - کس لیس - کس لیسیدن - کس ننت - کس و کیر - کس کردن - کس کش - کس - کسخل - کسشعر - کسکش - کسکیر - کص خل - کص لیس - کص - کصافت - کصافط - کصخل - کصکش - کلفت - کله کیری - کوث لیس - کوس خل - کوس خور - کوس لیس - کوس - کوص خل - کوص لیس - کوص - کون تپل - کون ده - کون سوراخ - کون پنیر - کون گنده - کون - کونده خار - کونده خوار - کونده - کونشو - کونی - کونی - کیر - کیردراز - کیردوس - کیرر - کیرمکیدن - کیرناز - کیروکس - کیروکس - کیری - گاو - گاوی - گاگول - گایدن - گایدی - گاییدن - گردن دراز - گشاد - گوز - گوزو - گوسفند - گوش دراز - گوه - گوه - گی زن - گیخوار - یبن زنا - مادرتو - ناموستو - چنده - باسنی - سیکیم - سگ ناموس - نوب - خایمال - مادر به خطا - کصلیس - بکنت - کصده - گورومساخ - پوفیوز - پدرتو - قورومساق - سیهدیر - اوبی - مادر سگ - نگایدم - چرت و پرت\n"
          ]
        }
      ],
      "source": [
        "print(persianswear.tostring())\n"
      ]
    }
  ],
  "metadata": {
    "colab": {
      "collapsed_sections": [],
      "name": "PersianSwear.ipynb",
      "provenance": []
    },
    "kernelspec": {
      "display_name": "Python 3.10.3 64-bit",
      "language": "python",
      "name": "python3"
    },
    "language_info": {
      "name": "python",
      "version": "3.10.3"
    },
    "vscode": {
      "interpreter": {
        "hash": "aee8b7b246df8f9039afb4144a1f6fd8d2ca17a180786b69acc140d282b71a49"
      }
    }
  },
  "nbformat": 4,
  "nbformat_minor": 0
}
