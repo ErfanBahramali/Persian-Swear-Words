{
  "cells": [
    {
      "cell_type": "code",
      "execution_count": 2,
      "metadata": {
        "id": "ajlUjU3ehD6b"
      },
      "outputs": [],
      "source": [
        "import json\n",
        "import os.path"
      ]
    },
    {
      "cell_type": "code",
      "execution_count": 3,
      "metadata": {
        "id": "S1mNMY5ZiKEB"
      },
      "outputs": [],
      "source": [
        "class PersianSwear(object):\n",
        "\tdef __init__(self):\n",
        "\t\tself.data = json.load(open('data.json'))\n",
        "\n",
        "\t# return string\n",
        "\tdef filter_words(self, text, symbol=\"*\"):\n",
        "\t\tif(self.is_empty()):\n",
        "\t\t\treturn text\n",
        "\n",
        "\t\ttext = text.split()\n",
        "\t\tfor i in range(len(text)):\n",
        "\t\t\tif text[i] in self.data['word']:\n",
        "\t\t\t\ttext[i] = symbol\n",
        "\n",
        "\t\treturn \" \".join(text)\n",
        "\n",
        "\t# return boolean\n",
        "\tdef is_empty(self):\n",
        "\t\tif(len(self.data['word'])<1):\n",
        "\t\t\treturn True;\n",
        "\t\treturn False;\n",
        "\n",
        "\t# return nothing\n",
        "\tdef add_word(self, text):\n",
        "\t\tself.data['word'].append(text)\n",
        "\n",
        "\t# return nothing\n",
        "\tdef remove_word(self, text):\n",
        "\t\tself.data['word'].remove(text)\t\n",
        "\n",
        "\t# return boolean\n",
        "\tdef is_bad(self, text):\n",
        "\t\treturn text in self.data['word']\n",
        "\n",
        "\t# return boolean\n",
        "\tdef has_swear(self, text):\n",
        "\t\tif(self.is_empty()):\n",
        "\t\t\treturn text\n",
        "\n",
        "\t\ttext = text.split()\n",
        "\t\tfor i in range(len(text)):\n",
        "\t\t\tif text[i] in self.data['word']:\n",
        "\t\t\t\treturn True\n",
        "\n",
        "\t\treturn False\n",
        "\n",
        "\t# return string\n",
        "\tdef tostring(self):\n",
        "\t\treturn ' - '.join(self.data['word'])"
      ]
    },
    {
      "cell_type": "code",
      "execution_count": 4,
      "metadata": {
        "id": "3Dbw32YXiZ65"
      },
      "outputs": [],
      "source": [
        "persianswear = PersianSwear()"
      ]
    },
    {
      "cell_type": "code",
      "execution_count": 5,
      "metadata": {
        "colab": {
          "base_uri": "https://localhost:8080/"
        },
        "id": "x5-Ju8yytO9n",
        "outputId": "1170ff4f-b255-4651-fabf-2e8191afb498"
      },
      "outputs": [
        {
          "name": "stdout",
          "output_type": "stream",
          "text": [
            "True\n"
          ]
        }
      ],
      "source": [
        "print(persianswear.is_bad('خر'))"
      ]
    },
    {
      "cell_type": "code",
      "execution_count": 6,
      "metadata": {
        "colab": {
          "base_uri": "https://localhost:8080/"
        },
        "id": "x0t4bz2UumUJ",
        "outputId": "64059f34-cc27-4455-fb00-dcd99fce5b03"
      },
      "outputs": [
        {
          "name": "stdout",
          "output_type": "stream",
          "text": [
            "False\n"
          ]
        }
      ],
      "source": [
        "print(persianswear.is_bad('امروز'))"
      ]
    },
    {
      "cell_type": "code",
      "execution_count": 7,
      "metadata": {
        "colab": {
          "base_uri": "https://localhost:8080/"
        },
        "id": "iTSJNtP4uqbe",
        "outputId": "2972288e-f8ac-4091-94b1-5bdd55baf801"
      },
      "outputs": [
        {
          "name": "stdout",
          "output_type": "stream",
          "text": [
            "False\n"
          ]
        }
      ],
      "source": [
        "print(persianswear.is_bad('چرت و پرت'))"
      ]
    },
    {
      "cell_type": "code",
      "execution_count": 8,
      "metadata": {
        "colab": {
          "base_uri": "https://localhost:8080/"
        },
        "id": "rupNi8hduw43",
        "outputId": "c64b420c-9e50-47be-89ff-f87e44bc61ae"
      },
      "outputs": [
        {
          "name": "stdout",
          "output_type": "stream",
          "text": [
            "True\n"
          ]
        }
      ],
      "source": [
        "persianswear.add_word('چرت و پرت')\n",
        "print(persianswear.is_bad('چرت و پرت'))"
      ]
    },
    {
      "cell_type": "code",
      "execution_count": 9,
      "metadata": {
        "colab": {
          "base_uri": "https://localhost:8080/"
        },
        "id": "tOuLyR56vSYo",
        "outputId": "562d6bba-2d17-4fc4-c064-e23a46c70d1e"
      },
      "outputs": [
        {
          "name": "stdout",
          "output_type": "stream",
          "text": [
            "False\n"
          ]
        }
      ],
      "source": [
        "print(persianswear.has_swear('تو دوست من هستی'))"
      ]
    },
    {
      "cell_type": "code",
      "execution_count": 10,
      "metadata": {
        "colab": {
          "base_uri": "https://localhost:8080/"
        },
        "id": "2Nu974hvvXKw",
        "outputId": "fdadd1e9-b856-4002-9ab0-6ff2ea370add"
      },
      "outputs": [
        {
          "name": "stdout",
          "output_type": "stream",
          "text": [
            "True\n"
          ]
        }
      ],
      "source": [
        "print(persianswear.has_swear('تو هیز هستی'))"
      ]
    },
    {
      "cell_type": "code",
      "execution_count": 11,
      "metadata": {
        "colab": {
          "base_uri": "https://localhost:8080/"
        },
        "id": "IYMZglRHwLvl",
        "outputId": "f02b5253-fcf3-4fd8-c55f-81b0c0d20bd3"
      },
      "outputs": [
        {
          "name": "stdout",
          "output_type": "stream",
          "text": [
            "تو دوست من هستی\n"
          ]
        }
      ],
      "source": [
        "print(persianswear.filter_words('تو دوست من هستی'))"
      ]
    },
    {
      "cell_type": "code",
      "execution_count": 12,
      "metadata": {
        "colab": {
          "base_uri": "https://localhost:8080/"
        },
        "id": "veQekNghwT35",
        "outputId": "75ca8908-cfa6-4d90-d174-d2dd53de0103"
      },
      "outputs": [
        {
          "name": "stdout",
          "output_type": "stream",
          "text": [
            "تو * هستی\n"
          ]
        }
      ],
      "source": [
        "print(persianswear.filter_words('تو هیز هستی'))"
      ]
    },
    {
      "cell_type": "code",
      "execution_count": 13,
      "metadata": {
        "colab": {
          "base_uri": "https://localhost:8080/"
        },
        "id": "9VlNqwvJwURb",
        "outputId": "d2cc5db7-c131-439d-fff2-1232aca3553f"
      },
      "outputs": [
        {
          "name": "stdout",
          "output_type": "stream",
          "text": [
            "تو & هستی\n"
          ]
        }
      ],
      "source": [
        "print(persianswear.filter_words('تو هیز هستی', '&'))"
      ]
    },
    {
      "cell_type": "code",
      "execution_count": 14,
      "metadata": {
        "colab": {
          "base_uri": "https://localhost:8080/"
        },
        "id": "fsrpcX4jmFJG",
        "outputId": "42a2ec91-5357-468e-a948-c860b101301a"
      },
      "outputs": [
        {
          "name": "stdout",
          "output_type": "stream",
          "text": [
            "آب کیر - آشغال - آلت تناسلی - آلت - ابله - ابن یزید - احمق - اسب - اسبی - اسکل - اسکل - اسگل - اسگول - الاغ - الاق - انگل - انی - انی - اوسکل - اوسکل - اوسگل - اوصکل - اوصگل - ب ک - باسن - بخورش - بدبخت - بمال - تخمم - کیرم - بپرروش - بپرسرش - کونی - بکارت - بکن توش - بکنش - بکنمت - خایه - بی عفت - بی غیرت - بی ناموس - بی پدر - بیابخورش - بیشعور - بیناموس - تخم سگ - تخمی - ترک - توله سگ - جاکش - جلق زدن - جنده - جنسی - جوون - جکس - جیندا - حرومزاده - حشر - حشری شدن - حشری - حیوانی - خارکس ده - خارکسده - خارکسّه - خانم جنده - خایه خور - خایه مال - خایه - خر - خرفت - خری - خز - خفه خون - خفه شو - خواهرجنده - خی کاس - داف ناز - داف - داگ استایل - دخترجنده - دخترقرتی - درازگوش - دله - دهن سرویس - گاییده - دهنت سرویس - دوجنسه - دول - دیوث - دیوس خان - دیوس - دیوص - رشتی - ریدن - ریدی - زارت - زباله - زرنزن - زن جنده - زن کاسده - زنا زاده - زنا - زنازاده - زنتو - زنشو - زنیکه - سادیسمی - ساک - ساکونی - سرخور - سرکیر - سسکی - سوراخ کون - سوراخ کون - سولاخ - سکس چت - سکس - سکسی باش - سکسی - سکسیم - سکسیی - سگ تو روحت - سگ دهن - سگ صفت - سگ پدر - سگی - سیکتیر - شاسگول - شاش - شق کردن - شل مغز - شنگول - شهوتی - صیغه ای - صیک - عرب - عرق خور - عمتو - عمه ننه - عن تر - عن - عنتر - عوضی - غرمساق - غرمصاق - فاحشه خانم - فاحشه - فارس - فاک فیس - فیلم سوپر - قرتی - قرمساق - قرمصاق - قس - لا پا - لاس - لاش گوشت - لاشی - لاکونی - لجن - لخت - لختی - لر - لز - مادر جنده - مادرجنده - مادرسگ - مادرقهوه - مادرکونی - مالوندن - ماچ کردنی - مرتیکه - مردیکه - مرض داری - مرضداری - مشروب - ملنگ - ممه خور - ممه - منگل - میخوریش - نرکده - نعشه - نکبت - نگاییدم - هیز - ولدزنا - پدر سوخته - پدر سگ - پدر صلواتی - پدرسگ - پریود - پستان - پسون - پشمام - پفیوز - پلشت - پورن - پپه - چاغال - چاقال - چس خور - چس - کاسکش - کث لیس - کث - کثافت - کثافط - کردن - کردنی - کرم - کس خل - کس خور - کس خیس - کس دادن - کس لیس - کس لیسیدن - کس ننت - کس و کیر - کس کردن - کس کش - کس - کسخل - کسشعر - کسکش - کسکیر - کص خل - کص لیس - کص - کصافت - کصافط - کصخل - کصکش - کلفت - کله کیری - کوث لیس - کوس خل - کوس خور - کوس لیس - کوس - کوص خل - کوص لیس - کوص - کون تپل - کون ده - کون سوراخ - کون پنیر - کون گنده - کون - کونده خار - کونده خوار - کونده - کونشو - کونی - کونی - کیر - کیردراز - کیردوس - کیرر - کیرمکیدن - کیرناز - کیروکس - کیروکس - کیری - گاو - گاوی - گاگول - گایدن - گایدی - گاییدن - گردن دراز - گشاد - گوز - گوزو - گوسفند - گوش دراز - گوه - گوه - گی زن - گیخوار - یبن زنا - مادرتو - ناموستو - چنده - باسنی - سیکیم - سگ ناموس - نوب - خایمال - مادر به خطا - کصلیس - بکنت - کصده - گورومساخ - پوفیوز - پدرتو - قورومساق - سیهدیر - اوبی - مادر سگ - نگایدم - چرت و پرت\n"
          ]
        }
      ],
      "source": [
        "print(persianswear.tostring())"
      ]
    }
  ],
  "metadata": {
    "colab": {
      "collapsed_sections": [],
      "name": "PersianSwear.ipynb",
      "provenance": []
    },
    "kernelspec": {
      "display_name": "Python 3",
      "name": "python3"
    },
    "language_info": {
      "name": "python"
    }
  },
  "nbformat": 4,
  "nbformat_minor": 0
}
